{
 "cells": [
  {
   "cell_type": "code",
   "execution_count": 1,
   "id": "3c6dea22",
   "metadata": {},
   "outputs": [],
   "source": [
    "import numpy as np\n",
    "import pandas as pd\n",
    "import matplotlib.pyplot as plt\n",
    "import seaborn as sns\n",
    "import warnings\n",
    "warnings.filterwarnings('ignore')"
   ]
  },
  {
   "cell_type": "code",
   "execution_count": 3,
   "id": "12a6ea69",
   "metadata": {},
   "outputs": [],
   "source": [
    "data = pd.read_csv('amazon_stock_price.csv')"
   ]
  },
  {
   "cell_type": "code",
   "execution_count": 4,
   "id": "a76dce84",
   "metadata": {},
   "outputs": [
    {
     "data": {
      "text/html": [
       "<div>\n",
       "<style scoped>\n",
       "    .dataframe tbody tr th:only-of-type {\n",
       "        vertical-align: middle;\n",
       "    }\n",
       "\n",
       "    .dataframe tbody tr th {\n",
       "        vertical-align: top;\n",
       "    }\n",
       "\n",
       "    .dataframe thead th {\n",
       "        text-align: right;\n",
       "    }\n",
       "</style>\n",
       "<table border=\"1\" class=\"dataframe\">\n",
       "  <thead>\n",
       "    <tr style=\"text-align: right;\">\n",
       "      <th></th>\n",
       "      <th>Date</th>\n",
       "      <th>Open</th>\n",
       "      <th>High</th>\n",
       "      <th>Low</th>\n",
       "      <th>Close</th>\n",
       "      <th>Adj Close</th>\n",
       "      <th>Volume</th>\n",
       "    </tr>\n",
       "  </thead>\n",
       "  <tbody>\n",
       "    <tr>\n",
       "      <th>0</th>\n",
       "      <td>15-05-1997</td>\n",
       "      <td>2.437500</td>\n",
       "      <td>2.500000</td>\n",
       "      <td>1.927083</td>\n",
       "      <td>1.958333</td>\n",
       "      <td>1.958333</td>\n",
       "      <td>72156000</td>\n",
       "    </tr>\n",
       "    <tr>\n",
       "      <th>1</th>\n",
       "      <td>16-05-1997</td>\n",
       "      <td>1.968750</td>\n",
       "      <td>1.979167</td>\n",
       "      <td>1.708333</td>\n",
       "      <td>1.729167</td>\n",
       "      <td>1.729167</td>\n",
       "      <td>14700000</td>\n",
       "    </tr>\n",
       "    <tr>\n",
       "      <th>2</th>\n",
       "      <td>19-05-1997</td>\n",
       "      <td>1.760417</td>\n",
       "      <td>1.770833</td>\n",
       "      <td>1.625000</td>\n",
       "      <td>1.708333</td>\n",
       "      <td>1.708333</td>\n",
       "      <td>6106800</td>\n",
       "    </tr>\n",
       "    <tr>\n",
       "      <th>3</th>\n",
       "      <td>20-05-1997</td>\n",
       "      <td>1.729167</td>\n",
       "      <td>1.750000</td>\n",
       "      <td>1.635417</td>\n",
       "      <td>1.635417</td>\n",
       "      <td>1.635417</td>\n",
       "      <td>5467200</td>\n",
       "    </tr>\n",
       "    <tr>\n",
       "      <th>4</th>\n",
       "      <td>21-05-1997</td>\n",
       "      <td>1.635417</td>\n",
       "      <td>1.645833</td>\n",
       "      <td>1.375000</td>\n",
       "      <td>1.427083</td>\n",
       "      <td>1.427083</td>\n",
       "      <td>18853200</td>\n",
       "    </tr>\n",
       "    <tr>\n",
       "      <th>...</th>\n",
       "      <td>...</td>\n",
       "      <td>...</td>\n",
       "      <td>...</td>\n",
       "      <td>...</td>\n",
       "      <td>...</td>\n",
       "      <td>...</td>\n",
       "      <td>...</td>\n",
       "    </tr>\n",
       "    <tr>\n",
       "      <th>6120</th>\n",
       "      <td>09-09-2021</td>\n",
       "      <td>3526.020020</td>\n",
       "      <td>3549.989990</td>\n",
       "      <td>3480.370117</td>\n",
       "      <td>3484.159912</td>\n",
       "      <td>3484.159912</td>\n",
       "      <td>2719200</td>\n",
       "    </tr>\n",
       "    <tr>\n",
       "      <th>6121</th>\n",
       "      <td>10-09-2021</td>\n",
       "      <td>3501.830078</td>\n",
       "      <td>3508.449951</td>\n",
       "      <td>3462.909912</td>\n",
       "      <td>3469.149902</td>\n",
       "      <td>3469.149902</td>\n",
       "      <td>2393300</td>\n",
       "    </tr>\n",
       "    <tr>\n",
       "      <th>6122</th>\n",
       "      <td>13-09-2021</td>\n",
       "      <td>3482.800049</td>\n",
       "      <td>3497.959961</td>\n",
       "      <td>3438.000000</td>\n",
       "      <td>3457.169922</td>\n",
       "      <td>3457.169922</td>\n",
       "      <td>2569000</td>\n",
       "    </tr>\n",
       "    <tr>\n",
       "      <th>6123</th>\n",
       "      <td>14-09-2021</td>\n",
       "      <td>3475.550049</td>\n",
       "      <td>3486.810059</td>\n",
       "      <td>3437.709961</td>\n",
       "      <td>3450.000000</td>\n",
       "      <td>3450.000000</td>\n",
       "      <td>1936900</td>\n",
       "    </tr>\n",
       "    <tr>\n",
       "      <th>6124</th>\n",
       "      <td>15-09-2021</td>\n",
       "      <td>3442.520020</td>\n",
       "      <td>3485.149902</td>\n",
       "      <td>3402.010010</td>\n",
       "      <td>3475.790039</td>\n",
       "      <td>3475.790039</td>\n",
       "      <td>2921019</td>\n",
       "    </tr>\n",
       "  </tbody>\n",
       "</table>\n",
       "<p>6125 rows × 7 columns</p>\n",
       "</div>"
      ],
      "text/plain": [
       "            Date         Open         High          Low        Close  \\\n",
       "0     15-05-1997     2.437500     2.500000     1.927083     1.958333   \n",
       "1     16-05-1997     1.968750     1.979167     1.708333     1.729167   \n",
       "2     19-05-1997     1.760417     1.770833     1.625000     1.708333   \n",
       "3     20-05-1997     1.729167     1.750000     1.635417     1.635417   \n",
       "4     21-05-1997     1.635417     1.645833     1.375000     1.427083   \n",
       "...          ...          ...          ...          ...          ...   \n",
       "6120  09-09-2021  3526.020020  3549.989990  3480.370117  3484.159912   \n",
       "6121  10-09-2021  3501.830078  3508.449951  3462.909912  3469.149902   \n",
       "6122  13-09-2021  3482.800049  3497.959961  3438.000000  3457.169922   \n",
       "6123  14-09-2021  3475.550049  3486.810059  3437.709961  3450.000000   \n",
       "6124  15-09-2021  3442.520020  3485.149902  3402.010010  3475.790039   \n",
       "\n",
       "        Adj Close    Volume  \n",
       "0        1.958333  72156000  \n",
       "1        1.729167  14700000  \n",
       "2        1.708333   6106800  \n",
       "3        1.635417   5467200  \n",
       "4        1.427083  18853200  \n",
       "...           ...       ...  \n",
       "6120  3484.159912   2719200  \n",
       "6121  3469.149902   2393300  \n",
       "6122  3457.169922   2569000  \n",
       "6123  3450.000000   1936900  \n",
       "6124  3475.790039   2921019  \n",
       "\n",
       "[6125 rows x 7 columns]"
      ]
     },
     "execution_count": 4,
     "metadata": {},
     "output_type": "execute_result"
    }
   ],
   "source": [
    "data"
   ]
  },
  {
   "cell_type": "code",
   "execution_count": 5,
   "id": "a6da43fe",
   "metadata": {},
   "outputs": [
    {
     "data": {
      "text/html": [
       "<div>\n",
       "<style scoped>\n",
       "    .dataframe tbody tr th:only-of-type {\n",
       "        vertical-align: middle;\n",
       "    }\n",
       "\n",
       "    .dataframe tbody tr th {\n",
       "        vertical-align: top;\n",
       "    }\n",
       "\n",
       "    .dataframe thead th {\n",
       "        text-align: right;\n",
       "    }\n",
       "</style>\n",
       "<table border=\"1\" class=\"dataframe\">\n",
       "  <thead>\n",
       "    <tr style=\"text-align: right;\">\n",
       "      <th></th>\n",
       "      <th>Date</th>\n",
       "      <th>Open</th>\n",
       "      <th>High</th>\n",
       "      <th>Low</th>\n",
       "      <th>Close</th>\n",
       "      <th>Adj Close</th>\n",
       "      <th>Volume</th>\n",
       "    </tr>\n",
       "  </thead>\n",
       "  <tbody>\n",
       "    <tr>\n",
       "      <th>0</th>\n",
       "      <td>15-05-1997</td>\n",
       "      <td>2.437500</td>\n",
       "      <td>2.500000</td>\n",
       "      <td>1.927083</td>\n",
       "      <td>1.958333</td>\n",
       "      <td>1.958333</td>\n",
       "      <td>72156000</td>\n",
       "    </tr>\n",
       "    <tr>\n",
       "      <th>1</th>\n",
       "      <td>16-05-1997</td>\n",
       "      <td>1.968750</td>\n",
       "      <td>1.979167</td>\n",
       "      <td>1.708333</td>\n",
       "      <td>1.729167</td>\n",
       "      <td>1.729167</td>\n",
       "      <td>14700000</td>\n",
       "    </tr>\n",
       "    <tr>\n",
       "      <th>2</th>\n",
       "      <td>19-05-1997</td>\n",
       "      <td>1.760417</td>\n",
       "      <td>1.770833</td>\n",
       "      <td>1.625000</td>\n",
       "      <td>1.708333</td>\n",
       "      <td>1.708333</td>\n",
       "      <td>6106800</td>\n",
       "    </tr>\n",
       "    <tr>\n",
       "      <th>3</th>\n",
       "      <td>20-05-1997</td>\n",
       "      <td>1.729167</td>\n",
       "      <td>1.750000</td>\n",
       "      <td>1.635417</td>\n",
       "      <td>1.635417</td>\n",
       "      <td>1.635417</td>\n",
       "      <td>5467200</td>\n",
       "    </tr>\n",
       "    <tr>\n",
       "      <th>4</th>\n",
       "      <td>21-05-1997</td>\n",
       "      <td>1.635417</td>\n",
       "      <td>1.645833</td>\n",
       "      <td>1.375000</td>\n",
       "      <td>1.427083</td>\n",
       "      <td>1.427083</td>\n",
       "      <td>18853200</td>\n",
       "    </tr>\n",
       "  </tbody>\n",
       "</table>\n",
       "</div>"
      ],
      "text/plain": [
       "         Date      Open      High       Low     Close  Adj Close    Volume\n",
       "0  15-05-1997  2.437500  2.500000  1.927083  1.958333   1.958333  72156000\n",
       "1  16-05-1997  1.968750  1.979167  1.708333  1.729167   1.729167  14700000\n",
       "2  19-05-1997  1.760417  1.770833  1.625000  1.708333   1.708333   6106800\n",
       "3  20-05-1997  1.729167  1.750000  1.635417  1.635417   1.635417   5467200\n",
       "4  21-05-1997  1.635417  1.645833  1.375000  1.427083   1.427083  18853200"
      ]
     },
     "execution_count": 5,
     "metadata": {},
     "output_type": "execute_result"
    }
   ],
   "source": [
    "data.head()"
   ]
  },
  {
   "cell_type": "code",
   "execution_count": 6,
   "id": "863c950b",
   "metadata": {},
   "outputs": [
    {
     "data": {
      "text/html": [
       "<div>\n",
       "<style scoped>\n",
       "    .dataframe tbody tr th:only-of-type {\n",
       "        vertical-align: middle;\n",
       "    }\n",
       "\n",
       "    .dataframe tbody tr th {\n",
       "        vertical-align: top;\n",
       "    }\n",
       "\n",
       "    .dataframe thead th {\n",
       "        text-align: right;\n",
       "    }\n",
       "</style>\n",
       "<table border=\"1\" class=\"dataframe\">\n",
       "  <thead>\n",
       "    <tr style=\"text-align: right;\">\n",
       "      <th></th>\n",
       "      <th>Date</th>\n",
       "      <th>Open</th>\n",
       "      <th>High</th>\n",
       "      <th>Low</th>\n",
       "      <th>Close</th>\n",
       "      <th>Adj Close</th>\n",
       "      <th>Volume</th>\n",
       "    </tr>\n",
       "  </thead>\n",
       "  <tbody>\n",
       "    <tr>\n",
       "      <th>6120</th>\n",
       "      <td>09-09-2021</td>\n",
       "      <td>3526.020020</td>\n",
       "      <td>3549.989990</td>\n",
       "      <td>3480.370117</td>\n",
       "      <td>3484.159912</td>\n",
       "      <td>3484.159912</td>\n",
       "      <td>2719200</td>\n",
       "    </tr>\n",
       "    <tr>\n",
       "      <th>6121</th>\n",
       "      <td>10-09-2021</td>\n",
       "      <td>3501.830078</td>\n",
       "      <td>3508.449951</td>\n",
       "      <td>3462.909912</td>\n",
       "      <td>3469.149902</td>\n",
       "      <td>3469.149902</td>\n",
       "      <td>2393300</td>\n",
       "    </tr>\n",
       "    <tr>\n",
       "      <th>6122</th>\n",
       "      <td>13-09-2021</td>\n",
       "      <td>3482.800049</td>\n",
       "      <td>3497.959961</td>\n",
       "      <td>3438.000000</td>\n",
       "      <td>3457.169922</td>\n",
       "      <td>3457.169922</td>\n",
       "      <td>2569000</td>\n",
       "    </tr>\n",
       "    <tr>\n",
       "      <th>6123</th>\n",
       "      <td>14-09-2021</td>\n",
       "      <td>3475.550049</td>\n",
       "      <td>3486.810059</td>\n",
       "      <td>3437.709961</td>\n",
       "      <td>3450.000000</td>\n",
       "      <td>3450.000000</td>\n",
       "      <td>1936900</td>\n",
       "    </tr>\n",
       "    <tr>\n",
       "      <th>6124</th>\n",
       "      <td>15-09-2021</td>\n",
       "      <td>3442.520020</td>\n",
       "      <td>3485.149902</td>\n",
       "      <td>3402.010010</td>\n",
       "      <td>3475.790039</td>\n",
       "      <td>3475.790039</td>\n",
       "      <td>2921019</td>\n",
       "    </tr>\n",
       "  </tbody>\n",
       "</table>\n",
       "</div>"
      ],
      "text/plain": [
       "            Date         Open         High          Low        Close  \\\n",
       "6120  09-09-2021  3526.020020  3549.989990  3480.370117  3484.159912   \n",
       "6121  10-09-2021  3501.830078  3508.449951  3462.909912  3469.149902   \n",
       "6122  13-09-2021  3482.800049  3497.959961  3438.000000  3457.169922   \n",
       "6123  14-09-2021  3475.550049  3486.810059  3437.709961  3450.000000   \n",
       "6124  15-09-2021  3442.520020  3485.149902  3402.010010  3475.790039   \n",
       "\n",
       "        Adj Close   Volume  \n",
       "6120  3484.159912  2719200  \n",
       "6121  3469.149902  2393300  \n",
       "6122  3457.169922  2569000  \n",
       "6123  3450.000000  1936900  \n",
       "6124  3475.790039  2921019  "
      ]
     },
     "execution_count": 6,
     "metadata": {},
     "output_type": "execute_result"
    }
   ],
   "source": [
    "data.tail()"
   ]
  },
  {
   "cell_type": "code",
   "execution_count": 7,
   "id": "ff2bb069",
   "metadata": {},
   "outputs": [
    {
     "data": {
      "text/plain": [
       "(6125, 7)"
      ]
     },
     "execution_count": 7,
     "metadata": {},
     "output_type": "execute_result"
    }
   ],
   "source": [
    "data.shape"
   ]
  },
  {
   "cell_type": "code",
   "execution_count": 9,
   "id": "5b3c1fae",
   "metadata": {},
   "outputs": [
    {
     "name": "stdout",
     "output_type": "stream",
     "text": [
      "<class 'pandas.core.frame.DataFrame'>\n",
      "RangeIndex: 6125 entries, 0 to 6124\n",
      "Data columns (total 7 columns):\n",
      " #   Column     Non-Null Count  Dtype  \n",
      "---  ------     --------------  -----  \n",
      " 0   Date       6125 non-null   object \n",
      " 1   Open       6125 non-null   float64\n",
      " 2   High       6125 non-null   float64\n",
      " 3   Low        6125 non-null   float64\n",
      " 4   Close      6125 non-null   float64\n",
      " 5   Adj Close  6125 non-null   float64\n",
      " 6   Volume     6125 non-null   int64  \n",
      "dtypes: float64(5), int64(1), object(1)\n",
      "memory usage: 335.1+ KB\n"
     ]
    }
   ],
   "source": [
    "data.info()"
   ]
  },
  {
   "cell_type": "code",
   "execution_count": 10,
   "id": "8fbeb769",
   "metadata": {},
   "outputs": [
    {
     "data": {
      "text/html": [
       "<div>\n",
       "<style scoped>\n",
       "    .dataframe tbody tr th:only-of-type {\n",
       "        vertical-align: middle;\n",
       "    }\n",
       "\n",
       "    .dataframe tbody tr th {\n",
       "        vertical-align: top;\n",
       "    }\n",
       "\n",
       "    .dataframe thead th {\n",
       "        text-align: right;\n",
       "    }\n",
       "</style>\n",
       "<table border=\"1\" class=\"dataframe\">\n",
       "  <thead>\n",
       "    <tr style=\"text-align: right;\">\n",
       "      <th></th>\n",
       "      <th>Open</th>\n",
       "      <th>High</th>\n",
       "      <th>Low</th>\n",
       "      <th>Close</th>\n",
       "      <th>Adj Close</th>\n",
       "      <th>Volume</th>\n",
       "    </tr>\n",
       "  </thead>\n",
       "  <tbody>\n",
       "    <tr>\n",
       "      <th>count</th>\n",
       "      <td>6125.000000</td>\n",
       "      <td>6125.000000</td>\n",
       "      <td>6125.000000</td>\n",
       "      <td>6125.000000</td>\n",
       "      <td>6125.000000</td>\n",
       "      <td>6.125000e+03</td>\n",
       "    </tr>\n",
       "    <tr>\n",
       "      <th>mean</th>\n",
       "      <td>506.711946</td>\n",
       "      <td>512.263599</td>\n",
       "      <td>500.544531</td>\n",
       "      <td>506.589874</td>\n",
       "      <td>506.589874</td>\n",
       "      <td>7.351046e+06</td>\n",
       "    </tr>\n",
       "    <tr>\n",
       "      <th>std</th>\n",
       "      <td>836.045119</td>\n",
       "      <td>844.598987</td>\n",
       "      <td>826.233207</td>\n",
       "      <td>835.548822</td>\n",
       "      <td>835.548822</td>\n",
       "      <td>7.159739e+06</td>\n",
       "    </tr>\n",
       "    <tr>\n",
       "      <th>min</th>\n",
       "      <td>1.406250</td>\n",
       "      <td>1.447917</td>\n",
       "      <td>1.312500</td>\n",
       "      <td>1.395833</td>\n",
       "      <td>1.395833</td>\n",
       "      <td>4.872000e+05</td>\n",
       "    </tr>\n",
       "    <tr>\n",
       "      <th>25%</th>\n",
       "      <td>38.619999</td>\n",
       "      <td>39.439999</td>\n",
       "      <td>38.049999</td>\n",
       "      <td>38.720001</td>\n",
       "      <td>38.720001</td>\n",
       "      <td>3.600100e+06</td>\n",
       "    </tr>\n",
       "    <tr>\n",
       "      <th>50%</th>\n",
       "      <td>91.800003</td>\n",
       "      <td>93.400002</td>\n",
       "      <td>89.750000</td>\n",
       "      <td>91.300003</td>\n",
       "      <td>91.300003</td>\n",
       "      <td>5.483600e+06</td>\n",
       "    </tr>\n",
       "    <tr>\n",
       "      <th>75%</th>\n",
       "      <td>512.989990</td>\n",
       "      <td>519.409973</td>\n",
       "      <td>502.570007</td>\n",
       "      <td>511.890015</td>\n",
       "      <td>511.890015</td>\n",
       "      <td>8.310500e+06</td>\n",
       "    </tr>\n",
       "    <tr>\n",
       "      <th>max</th>\n",
       "      <td>3744.000000</td>\n",
       "      <td>3773.080078</td>\n",
       "      <td>3696.790039</td>\n",
       "      <td>3731.409912</td>\n",
       "      <td>3731.409912</td>\n",
       "      <td>1.043292e+08</td>\n",
       "    </tr>\n",
       "  </tbody>\n",
       "</table>\n",
       "</div>"
      ],
      "text/plain": [
       "              Open         High          Low        Close    Adj Close  \\\n",
       "count  6125.000000  6125.000000  6125.000000  6125.000000  6125.000000   \n",
       "mean    506.711946   512.263599   500.544531   506.589874   506.589874   \n",
       "std     836.045119   844.598987   826.233207   835.548822   835.548822   \n",
       "min       1.406250     1.447917     1.312500     1.395833     1.395833   \n",
       "25%      38.619999    39.439999    38.049999    38.720001    38.720001   \n",
       "50%      91.800003    93.400002    89.750000    91.300003    91.300003   \n",
       "75%     512.989990   519.409973   502.570007   511.890015   511.890015   \n",
       "max    3744.000000  3773.080078  3696.790039  3731.409912  3731.409912   \n",
       "\n",
       "             Volume  \n",
       "count  6.125000e+03  \n",
       "mean   7.351046e+06  \n",
       "std    7.159739e+06  \n",
       "min    4.872000e+05  \n",
       "25%    3.600100e+06  \n",
       "50%    5.483600e+06  \n",
       "75%    8.310500e+06  \n",
       "max    1.043292e+08  "
      ]
     },
     "execution_count": 10,
     "metadata": {},
     "output_type": "execute_result"
    }
   ],
   "source": [
    "data.describe()"
   ]
  },
  {
   "cell_type": "code",
   "execution_count": 11,
   "id": "9c6daf41",
   "metadata": {},
   "outputs": [
    {
     "data": {
      "text/plain": [
       "Index(['Date', 'Open', 'High', 'Low', 'Close', 'Adj Close', 'Volume'], dtype='object')"
      ]
     },
     "execution_count": 11,
     "metadata": {},
     "output_type": "execute_result"
    }
   ],
   "source": [
    "data.columns"
   ]
  },
  {
   "cell_type": "code",
   "execution_count": 12,
   "id": "550b7b18",
   "metadata": {},
   "outputs": [
    {
     "data": {
      "text/plain": [
       "Date         0\n",
       "Open         0\n",
       "High         0\n",
       "Low          0\n",
       "Close        0\n",
       "Adj Close    0\n",
       "Volume       0\n",
       "dtype: int64"
      ]
     },
     "execution_count": 12,
     "metadata": {},
     "output_type": "execute_result"
    }
   ],
   "source": [
    "data.isnull().sum()"
   ]
  },
  {
   "cell_type": "code",
   "execution_count": 13,
   "id": "75bc7a01",
   "metadata": {},
   "outputs": [],
   "source": [
    "data = data.drop(columns=['Adj Close'])"
   ]
  },
  {
   "cell_type": "code",
   "execution_count": 14,
   "id": "4ef9ea17",
   "metadata": {},
   "outputs": [
    {
     "data": {
      "text/html": [
       "<div>\n",
       "<style scoped>\n",
       "    .dataframe tbody tr th:only-of-type {\n",
       "        vertical-align: middle;\n",
       "    }\n",
       "\n",
       "    .dataframe tbody tr th {\n",
       "        vertical-align: top;\n",
       "    }\n",
       "\n",
       "    .dataframe thead th {\n",
       "        text-align: right;\n",
       "    }\n",
       "</style>\n",
       "<table border=\"1\" class=\"dataframe\">\n",
       "  <thead>\n",
       "    <tr style=\"text-align: right;\">\n",
       "      <th></th>\n",
       "      <th>Date</th>\n",
       "      <th>Open</th>\n",
       "      <th>High</th>\n",
       "      <th>Low</th>\n",
       "      <th>Close</th>\n",
       "      <th>Volume</th>\n",
       "    </tr>\n",
       "  </thead>\n",
       "  <tbody>\n",
       "    <tr>\n",
       "      <th>0</th>\n",
       "      <td>15-05-1997</td>\n",
       "      <td>2.437500</td>\n",
       "      <td>2.500000</td>\n",
       "      <td>1.927083</td>\n",
       "      <td>1.958333</td>\n",
       "      <td>72156000</td>\n",
       "    </tr>\n",
       "    <tr>\n",
       "      <th>1</th>\n",
       "      <td>16-05-1997</td>\n",
       "      <td>1.968750</td>\n",
       "      <td>1.979167</td>\n",
       "      <td>1.708333</td>\n",
       "      <td>1.729167</td>\n",
       "      <td>14700000</td>\n",
       "    </tr>\n",
       "    <tr>\n",
       "      <th>2</th>\n",
       "      <td>19-05-1997</td>\n",
       "      <td>1.760417</td>\n",
       "      <td>1.770833</td>\n",
       "      <td>1.625000</td>\n",
       "      <td>1.708333</td>\n",
       "      <td>6106800</td>\n",
       "    </tr>\n",
       "    <tr>\n",
       "      <th>3</th>\n",
       "      <td>20-05-1997</td>\n",
       "      <td>1.729167</td>\n",
       "      <td>1.750000</td>\n",
       "      <td>1.635417</td>\n",
       "      <td>1.635417</td>\n",
       "      <td>5467200</td>\n",
       "    </tr>\n",
       "    <tr>\n",
       "      <th>4</th>\n",
       "      <td>21-05-1997</td>\n",
       "      <td>1.635417</td>\n",
       "      <td>1.645833</td>\n",
       "      <td>1.375000</td>\n",
       "      <td>1.427083</td>\n",
       "      <td>18853200</td>\n",
       "    </tr>\n",
       "  </tbody>\n",
       "</table>\n",
       "</div>"
      ],
      "text/plain": [
       "         Date      Open      High       Low     Close    Volume\n",
       "0  15-05-1997  2.437500  2.500000  1.927083  1.958333  72156000\n",
       "1  16-05-1997  1.968750  1.979167  1.708333  1.729167  14700000\n",
       "2  19-05-1997  1.760417  1.770833  1.625000  1.708333   6106800\n",
       "3  20-05-1997  1.729167  1.750000  1.635417  1.635417   5467200\n",
       "4  21-05-1997  1.635417  1.645833  1.375000  1.427083  18853200"
      ]
     },
     "execution_count": 14,
     "metadata": {},
     "output_type": "execute_result"
    }
   ],
   "source": [
    "data.head()"
   ]
  },
  {
   "cell_type": "code",
   "execution_count": 15,
   "id": "a1686cbb",
   "metadata": {},
   "outputs": [
    {
     "data": {
      "image/png": "[encoded data removed]",
      "text/plain": [
       "<Figure size 1440x576 with 1 Axes>"
      ]
     },
     "metadata": {
      "needs_background": "light"
     },
     "output_type": "display_data"
    }
   ],
   "source": [
    "fig, ax = plt.subplots(figsize=(20,8))\n",
    "ax.plot(data['Date'], data['Close'], color='Red')\n",
    "ax.xaxis.set_major_locator(plt.MaxNLocator(15))\n",
    "ax.set_xlabel('Date', fontsize='11')\n",
    "ax.set_ylabel('Price in USD', fontsize='11')\n",
    "plt.title('Amazon Stock Prices')\n",
    "plt.grid()\n",
    "plt.show()"
   ]
  },
  {
   "cell_type": "code",
   "execution_count": 16,
   "id": "e3fd1384",
   "metadata": {},
   "outputs": [
    {
     "data": {
      "image/png": "[encoded data removed]",
      "text/plain": [
       "<Figure size 1440x576 with 1 Axes>"
      ]
     },
     "metadata": {
      "needs_background": "light"
     },
     "output_type": "display_data"
    }
   ],
   "source": [
    "fig, ax = plt.subplots(figsize=(20,8))\n",
    "ax.bar(data['Date'], data['Volume'])\n",
    "ax.xaxis.set_major_locator(plt.MaxNLocator(15))\n",
    "ax.set_xlabel('Date', fontsize='11')\n",
    "ax.set_ylabel('Volumes', fontsize='11')\n",
    "plt.title('Volume Trends', fontsize='20')\n",
    "plt.grid()\n",
    "plt.show()\n"
   ]
  },
  {
   "cell_type": "code",
   "execution_count": 20,
   "id": "c4545e38",
   "metadata": {},
   "outputs": [],
   "source": [
    "data['Market Camp'] = data['Open']*data['Volume']"
   ]
  },
  {
   "cell_type": "code",
   "execution_count": 21,
   "id": "6cae445f",
   "metadata": {},
   "outputs": [
    {
     "data": {
      "text/plain": [
       "Date                 30-07-2021\n",
       "Open                3347.949951\n",
       "High                3368.139893\n",
       "Low                  3306.97998\n",
       "Close               3327.590088\n",
       "Volume                  9957100\n",
       "Market Camp    33335872457.1021\n",
       "Name: 6092, dtype: object"
      ]
     },
     "execution_count": 21,
     "metadata": {},
     "output_type": "execute_result"
    }
   ],
   "source": [
    "data.iloc[data['Market Camp'].argmax()]"
   ]
  },
  {
   "cell_type": "code",
   "execution_count": 22,
   "id": "c4abf4fe",
   "metadata": {},
   "outputs": [],
   "source": [
    "data['vol'] = (data['Close']/data['Close'].shift(1)) - 1"
   ]
  },
  {
   "cell_type": "code",
   "execution_count": 24,
   "id": "e00d4eac",
   "metadata": {},
   "outputs": [
    {
     "data": {
      "image/png": "[encoded data removed]",
      "text/plain": [
       "<Figure size 1440x576 with 1 Axes>"
      ]
     },
     "metadata": {
      "needs_background": "light"
     },
     "output_type": "display_data"
    }
   ],
   "source": [
    "fig, ax = plt.subplots(figsize=(20,8))\n",
    "ax.plot(data['Date'], data['vol'], color='purple')\n",
    "ax.xaxis.set_major_locator(plt.MaxNLocator(15))\n",
    "plt.title('Volatility')\n",
    "plt.grid()\n",
    "plt.show()\n"
   ]
  },
  {
   "cell_type": "code",
   "execution_count": 26,
   "id": "68b9961c",
   "metadata": {},
   "outputs": [
    {
     "data": {
      "image/png": "[encoded data removed]",
      "text/plain": [
       "<Figure size 432x288 with 1 Axes>"
      ]
     },
     "metadata": {
      "needs_background": "light"
     },
     "output_type": "display_data"
    }
   ],
   "source": [
    "data['vol'].hist(bins=100, color='red');\n"
   ]
  },
  {
   "cell_type": "code",
   "execution_count": 27,
   "id": "c2e21d16",
   "metadata": {},
   "outputs": [],
   "source": [
    "data['Cumulative Return'] = (1 + data['vol']).cumprod()"
   ]
  },
  {
   "cell_type": "code",
   "execution_count": 28,
   "id": "953a8b37",
   "metadata": {},
   "outputs": [
    {
     "data": {
      "image/png": "[encoded data removed]",
      "text/plain": [
       "<Figure size 1440x576 with 1 Axes>"
      ]
     },
     "metadata": {
      "needs_background": "light"
     },
     "output_type": "display_data"
    }
   ],
   "source": [
    "fig, ax = plt.subplots(figsize=(20,8))\n",
    "ax.plot(data['Date'], data['Cumulative Return'], color='black')\n",
    "ax.xaxis.set_major_locator(plt.MaxNLocator(15))\n",
    "ax.set_xlabel('Date', fontsize='11')\n",
    "ax.set_ylabel('Cumulative Return', fontsize='11')\n",
    "plt.title('Cumulative Return')\n",
    "plt.grid()\n",
    "plt.show()\n"
   ]
  },
  {
   "cell_type": "code",
   "execution_count": 29,
   "id": "956bc79c",
   "metadata": {},
   "outputs": [
    {
     "data": {
      "text/plain": [
       "Date                         08-07-2021\n",
       "Open                        3643.560059\n",
       "High                         3759.98999\n",
       "Low                         3621.120117\n",
       "Close                       3731.409912\n",
       "Volume                          5180600\n",
       "Market Camp          18875827241.655399\n",
       "vol                            0.009422\n",
       "Cumulative Return            1905.40113\n",
       "Name: 6076, dtype: object"
      ]
     },
     "execution_count": 29,
     "metadata": {},
     "output_type": "execute_result"
    }
   ],
   "source": [
    "data.iloc[data['Cumulative Return'].argmax()]"
   ]
  },
  {
   "cell_type": "code",
   "execution_count": 30,
   "id": "03607319",
   "metadata": {},
   "outputs": [],
   "source": [
    "from sklearn.preprocessing import MinMaxScaler\n",
    "from keras.modelsdels import Sequential\n",
    "from keras.layers import Dense, LSTM\n",
    "import math"
   ]
  },
  {
   "cell_type": "code",
   "execution_count": null,
   "id": "54c2af1e",
   "metadata": {},
   "outputs": [],
   "source": [
    "data['Date'] = pd.to_datetime(amazon_data['Date'])\n",
    "data.set_index('Date',inplace=True)\n"
   ]
  }
 ],
 "metadata": {
  "kernelspec": {
   "display_name": "Python 3 (ipykernel)",
   "language": "python",
   "name": "python3"
  },
  "language_info": {
   "codemirror_mode": {
    "name": "ipython",
    "version": 3
   },
   "file_extension": ".py",
   "mimetype": "text/x-python",
   "name": "python",
   "nbconvert_exporter": "python",
   "pygments_lexer": "ipython3",
   "version": "3.9.7"
  }
 },
 "nbformat": 4,
 "nbformat_minor": 5
}
